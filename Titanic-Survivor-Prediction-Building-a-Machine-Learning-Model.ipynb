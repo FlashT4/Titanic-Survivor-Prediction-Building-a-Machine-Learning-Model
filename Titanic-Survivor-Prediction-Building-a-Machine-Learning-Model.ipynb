{
 "cells": [
  {
   "cell_type": "markdown",
   "id": "d598a405",
   "metadata": {},
   "source": [
    "# Importing Dependencies "
   ]
  },
  {
   "cell_type": "code",
   "execution_count": 1,
   "id": "bb168869",
   "metadata": {},
   "outputs": [],
   "source": [
    "import warnings \n",
    "import numpy as np \n",
    "import pandas as pd \n",
    "import matplotlib.pyplot as plt \n",
    "import seaborn as sns \n",
    "plt.style.use('fivethirtyeight') \n",
    "%matplotlib inline \n",
    "warnings.filterwarnings('ignore') \n"
   ]
  },
  {
   "cell_type": "code",
   "execution_count": 2,
   "id": "013d63fa",
   "metadata": {},
   "outputs": [
    {
     "data": {
      "text/plain": [
       "(891, 12)"
      ]
     },
     "execution_count": 2,
     "metadata": {},
     "output_type": "execute_result"
    }
   ],
   "source": [
    "train = pd.read_csv('train.csv') \n",
    "test = pd.read_csv('test.csv') \n",
    "\n",
    "# To know number of columns and rows \n",
    "train.shape \n",
    "# (891, 12) \n"
   ]
  },
  {
   "cell_type": "code",
   "execution_count": 3,
   "id": "d2d545fb",
   "metadata": {},
   "outputs": [
    {
     "name": "stdout",
     "output_type": "stream",
     "text": [
      "<class 'pandas.core.frame.DataFrame'>\n",
      "RangeIndex: 891 entries, 0 to 890\n",
      "Data columns (total 12 columns):\n",
      " #   Column       Non-Null Count  Dtype  \n",
      "---  ------       --------------  -----  \n",
      " 0   PassengerId  891 non-null    int64  \n",
      " 1   Survived     891 non-null    int64  \n",
      " 2   Pclass       891 non-null    int64  \n",
      " 3   Name         891 non-null    object \n",
      " 4   Sex          891 non-null    object \n",
      " 5   Age          714 non-null    float64\n",
      " 6   SibSp        891 non-null    int64  \n",
      " 7   Parch        891 non-null    int64  \n",
      " 8   Ticket       891 non-null    object \n",
      " 9   Fare         891 non-null    float64\n",
      " 10  Cabin        204 non-null    object \n",
      " 11  Embarked     889 non-null    object \n",
      "dtypes: float64(2), int64(5), object(5)\n",
      "memory usage: 83.7+ KB\n"
     ]
    }
   ],
   "source": [
    "train.info() \n"
   ]
  },
  {
   "cell_type": "code",
   "execution_count": 4,
   "id": "d3f0f979",
   "metadata": {},
   "outputs": [
    {
     "data": {
      "text/plain": [
       "PassengerId      0\n",
       "Survived         0\n",
       "Pclass           0\n",
       "Name             0\n",
       "Sex              0\n",
       "Age            177\n",
       "SibSp            0\n",
       "Parch            0\n",
       "Ticket           0\n",
       "Fare             0\n",
       "Cabin          687\n",
       "Embarked         2\n",
       "dtype: int64"
      ]
     },
     "execution_count": 4,
     "metadata": {},
     "output_type": "execute_result"
    }
   ],
   "source": [
    "train.isnull().sum() \n"
   ]
  },
  {
   "cell_type": "markdown",
   "id": "ce38fb16",
   "metadata": {},
   "source": [
    "# Feature Engineering"
   ]
  },
  {
   "cell_type": "code",
   "execution_count": 5,
   "id": "bc20fb9c",
   "metadata": {},
   "outputs": [],
   "source": [
    "# Create a new column cabinbool indicating \n",
    "# if the cabin value was given or was NaN \n",
    "train[\"CabinBool\"] = (train[\"Cabin\"].notnull().astype('int')) \n",
    "test[\"CabinBool\"] = (test[\"Cabin\"].notnull().astype('int')) \n",
    "\n",
    "# Delete the column 'Cabin' from test \n",
    "# and train dataset \n",
    "train = train.drop(['Cabin'], axis=1) \n",
    "test = test.drop(['Cabin'], axis=1)\n"
   ]
  },
  {
   "cell_type": "code",
   "execution_count": 6,
   "id": "3fad220f",
   "metadata": {},
   "outputs": [],
   "source": [
    "train = train.drop(['Ticket'], axis=1) \n",
    "test = test.drop(['Ticket'], axis=1) \n"
   ]
  },
  {
   "cell_type": "code",
   "execution_count": 7,
   "id": "cddc9022",
   "metadata": {},
   "outputs": [],
   "source": [
    "# replacing the missing values in \n",
    "# the Embarked feature with S \n",
    "train = train.fillna({\"Embarked\": \"S\"}) \n"
   ]
  },
  {
   "cell_type": "code",
   "execution_count": 8,
   "id": "37c3a5f7",
   "metadata": {},
   "outputs": [],
   "source": [
    "# sort the ages into logical categories \n",
    "train[\"Age\"] = train[\"Age\"].fillna(-0.5) \n",
    "test[\"Age\"] = test[\"Age\"].fillna(-0.5) \n",
    "bins = [-1, 0, 5, 12, 18, 24, 35, 60, np.inf] \n",
    "labels = ['Unknown', 'Baby', 'Child', 'Teenager','Student', 'Young Adult', 'Adult', 'Senior'] \n",
    "train['AgeGroup'] = pd.cut(train[\"Age\"], bins, labels=labels) \n",
    "test['AgeGroup'] = pd.cut(test[\"Age\"], bins, labels=labels) \n"
   ]
  },
  {
   "cell_type": "code",
   "execution_count": 9,
   "id": "9c943e2e",
   "metadata": {},
   "outputs": [],
   "source": [
    "# create a combined group of both datasets \n",
    "combine = [train, test] \n",
    "\n",
    "# extract a title for each Name in the \n",
    "# train and test datasets \n",
    "for dataset in combine: \n",
    "\tdataset['Title'] = dataset.Name.str.extract(' ([A-Za-z]+)\\.', expand=False) \n",
    "\n",
    "pd.crosstab(train['Title'], train['Sex']) \n",
    "\n",
    "# replace various titles with more common names \n",
    "for dataset in combine: \n",
    "\tdataset['Title'] = dataset['Title'].replace(['Lady', 'Capt', 'Col', \n",
    "\t\t\t\t\t\t\t\t\t\t\t\t'Don', 'Dr', 'Major', \n",
    "\t\t\t\t\t\t\t\t\t\t\t\t'Rev', 'Jonkheer', 'Dona'], \n",
    "\t\t\t\t\t\t\t\t\t\t\t\t'Rare') \n",
    "\n",
    "\tdataset['Title'] = dataset['Title'].replace( \n",
    "\t\t['Countess', 'Lady', 'Sir'], 'Royal') \n",
    "\tdataset['Title'] = dataset['Title'].replace('Mlle', 'Miss') \n",
    "\tdataset['Title'] = dataset['Title'].replace('Ms', 'Miss') \n",
    "\tdataset['Title'] = dataset['Title'].replace('Mme', 'Mrs') \n",
    "\n",
    "train[['Title', 'Survived']].groupby(['Title'], as_index=False).mean() \n",
    "\n",
    "# map each of the title groups to a numerical value \n",
    "title_mapping = {\"Mr\": 1, \"Miss\": 2, \"Mrs\": 3, \n",
    "\t\t\t\t\"Master\": 4, \"Royal\": 5, \"Rare\": 6} \n",
    "for dataset in combine: \n",
    "\tdataset['Title'] = dataset['Title'].map(title_mapping) \n",
    "\tdataset['Title'] = dataset['Title'].fillna(0) \n"
   ]
  },
  {
   "cell_type": "code",
   "execution_count": 10,
   "id": "f1eafeca",
   "metadata": {},
   "outputs": [],
   "source": [
    "mr_age = train[train[\"Title\"] == 1][\"AgeGroup\"].mode() # Young Adult \n",
    "miss_age = train[train[\"Title\"] == 2][\"AgeGroup\"].mode() # Student \n",
    "mrs_age = train[train[\"Title\"] == 3][\"AgeGroup\"].mode() # Adult \n",
    "master_age = train[train[\"Title\"] == 4][\"AgeGroup\"].mode() # Baby \n",
    "royal_age = train[train[\"Title\"] == 5][\"AgeGroup\"].mode() # Adult \n",
    "rare_age = train[train[\"Title\"] == 6][\"AgeGroup\"].mode() # Adult \n",
    "\n",
    "age_title_mapping = {1: \"Young Adult\", 2: \"Student\", \n",
    "\t\t\t\t\t3: \"Adult\", 4: \"Baby\", 5: \"Adult\", 6: \"Adult\"} \n",
    "\n",
    "for x in range(len(train[\"AgeGroup\"])): \n",
    "\tif train[\"AgeGroup\"][x] == \"Unknown\": \n",
    "\t\ttrain[\"AgeGroup\"][x] = age_title_mapping[train[\"Title\"][x]] \n",
    "\n",
    "for x in range(len(test[\"AgeGroup\"])): \n",
    "\tif test[\"AgeGroup\"][x] == \"Unknown\": \n",
    "\t\ttest[\"AgeGroup\"][x] = age_title_mapping[test[\"Title\"][x]] \n"
   ]
  },
  {
   "cell_type": "code",
   "execution_count": 11,
   "id": "7c0a5ca0",
   "metadata": {},
   "outputs": [],
   "source": [
    "# map each Age value to a numerical value \n",
    "age_mapping = {'Baby': 1, 'Child': 2, 'Teenager': 3, \n",
    "\t\t\t'Student': 4, 'Young Adult': 5, 'Adult': 6, \n",
    "\t\t\t'Senior': 7} \n",
    "train['AgeGroup'] = train['AgeGroup'].map(age_mapping) \n",
    "test['AgeGroup'] = test['AgeGroup'].map(age_mapping) \n",
    "\n",
    "train.head() \n",
    "\n",
    "# dropping the Age feature for now, might change \n",
    "train = train.drop(['Age'], axis=1) \n",
    "test = test.drop(['Age'], axis=1) \n"
   ]
  },
  {
   "cell_type": "code",
   "execution_count": 12,
   "id": "cf94182b",
   "metadata": {},
   "outputs": [],
   "source": [
    "train = train.drop(['Name'], axis=1) \n",
    "test = test.drop(['Name'], axis=1) \n"
   ]
  },
  {
   "cell_type": "code",
   "execution_count": 13,
   "id": "9c076e1f",
   "metadata": {},
   "outputs": [],
   "source": [
    "sex_mapping = {\"male\": 0, \"female\": 1} \n",
    "train['Sex'] = train['Sex'].map(sex_mapping) \n",
    "test['Sex'] = test['Sex'].map(sex_mapping) \n",
    "\n",
    "embarked_mapping = {\"S\": 1, \"C\": 2, \"Q\": 3} \n",
    "train['Embarked'] = train['Embarked'].map(embarked_mapping) \n",
    "test['Embarked'] = test['Embarked'].map(embarked_mapping) \n"
   ]
  },
  {
   "cell_type": "code",
   "execution_count": 14,
   "id": "f9824579",
   "metadata": {},
   "outputs": [],
   "source": [
    "for x in range(len(test[\"Fare\"])): \n",
    "\tif pd.isnull(test[\"Fare\"][x]): \n",
    "\t\tpclass = test[\"Pclass\"][x] # Pclass = 3 \n",
    "\t\ttest[\"Fare\"][x] = round( \n",
    "\t\t\ttrain[train[\"Pclass\"] == pclass][\"Fare\"].mean(), 4) \n",
    "\n",
    "# map Fare values into groups of \n",
    "# numerical values \n",
    "train['FareBand'] = pd.qcut(train['Fare'], 4, \n",
    "\t\t\t\t\t\t\tlabels=[1, 2, 3, 4]) \n",
    "test['FareBand'] = pd.qcut(test['Fare'], 4, \n",
    "\t\t\t\t\t\tlabels=[1, 2, 3, 4]) \n",
    "\n",
    "# drop Fare values \n",
    "train = train.drop(['Fare'], axis=1) \n",
    "test = test.drop(['Fare'], axis=1) \n"
   ]
  },
  {
   "cell_type": "markdown",
   "id": "5501a4cc",
   "metadata": {},
   "source": [
    "# Model Training "
   ]
  },
  {
   "cell_type": "code",
   "execution_count": 15,
   "id": "4efd42f9",
   "metadata": {},
   "outputs": [],
   "source": [
    "from sklearn.model_selection import train_test_split \n",
    "\n",
    "# Drop the Survived and PassengerId \n",
    "# column from the trainset \n",
    "predictors = train.drop(['Survived', 'PassengerId'], axis=1) \n",
    "target = train[\"Survived\"] \n",
    "x_train, x_val, y_train, y_val = train_test_split( \n",
    "\tpredictors, target, test_size=0.2, random_state=0) \n"
   ]
  },
  {
   "cell_type": "code",
   "execution_count": 16,
   "id": "6c36cee7",
   "metadata": {},
   "outputs": [
    {
     "name": "stdout",
     "output_type": "stream",
     "text": [
      "Accuracy:  84.36\n"
     ]
    }
   ],
   "source": [
    "from sklearn.ensemble import RandomForestClassifier \n",
    "from sklearn.metrics import accuracy_score \n",
    "\n",
    "randomforest = RandomForestClassifier() \n",
    "\n",
    "# Fit the training data along with its output \n",
    "randomforest.fit(x_train, y_train) \n",
    "y_pred = randomforest.predict(x_val) \n",
    "\n",
    "# Find the accuracy score of the model \n",
    "acc_randomforest = round(accuracy_score(y_pred, y_val) * 100, 2) \n",
    "print(\"Accuracy: \",acc_randomforest) \n"
   ]
  },
  {
   "cell_type": "markdown",
   "id": "625e7f1e",
   "metadata": {},
   "source": [
    "# Prediction"
   ]
  },
  {
   "cell_type": "code",
   "execution_count": 17,
   "id": "2e6f69b9",
   "metadata": {},
   "outputs": [
    {
     "data": {
      "text/html": [
       "<div>\n",
       "<style scoped>\n",
       "    .dataframe tbody tr th:only-of-type {\n",
       "        vertical-align: middle;\n",
       "    }\n",
       "\n",
       "    .dataframe tbody tr th {\n",
       "        vertical-align: top;\n",
       "    }\n",
       "\n",
       "    .dataframe thead th {\n",
       "        text-align: right;\n",
       "    }\n",
       "</style>\n",
       "<table border=\"1\" class=\"dataframe\">\n",
       "  <thead>\n",
       "    <tr style=\"text-align: right;\">\n",
       "      <th></th>\n",
       "      <th>PassengerId</th>\n",
       "      <th>Survived</th>\n",
       "    </tr>\n",
       "  </thead>\n",
       "  <tbody>\n",
       "    <tr>\n",
       "      <th>0</th>\n",
       "      <td>892</td>\n",
       "      <td>0</td>\n",
       "    </tr>\n",
       "    <tr>\n",
       "      <th>1</th>\n",
       "      <td>893</td>\n",
       "      <td>1</td>\n",
       "    </tr>\n",
       "    <tr>\n",
       "      <th>2</th>\n",
       "      <td>894</td>\n",
       "      <td>0</td>\n",
       "    </tr>\n",
       "    <tr>\n",
       "      <th>3</th>\n",
       "      <td>895</td>\n",
       "      <td>0</td>\n",
       "    </tr>\n",
       "    <tr>\n",
       "      <th>4</th>\n",
       "      <td>896</td>\n",
       "      <td>0</td>\n",
       "    </tr>\n",
       "    <tr>\n",
       "      <th>...</th>\n",
       "      <td>...</td>\n",
       "      <td>...</td>\n",
       "    </tr>\n",
       "    <tr>\n",
       "      <th>413</th>\n",
       "      <td>1305</td>\n",
       "      <td>0</td>\n",
       "    </tr>\n",
       "    <tr>\n",
       "      <th>414</th>\n",
       "      <td>1306</td>\n",
       "      <td>1</td>\n",
       "    </tr>\n",
       "    <tr>\n",
       "      <th>415</th>\n",
       "      <td>1307</td>\n",
       "      <td>0</td>\n",
       "    </tr>\n",
       "    <tr>\n",
       "      <th>416</th>\n",
       "      <td>1308</td>\n",
       "      <td>0</td>\n",
       "    </tr>\n",
       "    <tr>\n",
       "      <th>417</th>\n",
       "      <td>1309</td>\n",
       "      <td>1</td>\n",
       "    </tr>\n",
       "  </tbody>\n",
       "</table>\n",
       "<p>418 rows × 2 columns</p>\n",
       "</div>"
      ],
      "text/plain": [
       "     PassengerId  Survived\n",
       "0            892         0\n",
       "1            893         1\n",
       "2            894         0\n",
       "3            895         0\n",
       "4            896         0\n",
       "..           ...       ...\n",
       "413         1305         0\n",
       "414         1306         1\n",
       "415         1307         0\n",
       "416         1308         0\n",
       "417         1309         1\n",
       "\n",
       "[418 rows x 2 columns]"
      ]
     },
     "execution_count": 17,
     "metadata": {},
     "output_type": "execute_result"
    }
   ],
   "source": [
    "ids = test['PassengerId'] \n",
    "predictions = randomforest.predict(test.drop('PassengerId', axis=1)) \n",
    "  \n",
    "# set the output as a dataframe and convert  \n",
    "# to csv file named resultfile.csv \n",
    "output = pd.DataFrame({'PassengerId': ids, 'Survived': predictions}) \n",
    "# output.to_csv('resultfile.csv', index=False)\n",
    "output"
   ]
  },
  {
   "cell_type": "code",
   "execution_count": 26,
   "id": "67a5d15a",
   "metadata": {},
   "outputs": [
    {
     "data": {
      "text/html": [
       "<div>\n",
       "<style scoped>\n",
       "    .dataframe tbody tr th:only-of-type {\n",
       "        vertical-align: middle;\n",
       "    }\n",
       "\n",
       "    .dataframe tbody tr th {\n",
       "        vertical-align: top;\n",
       "    }\n",
       "\n",
       "    .dataframe thead th {\n",
       "        text-align: right;\n",
       "    }\n",
       "</style>\n",
       "<table border=\"1\" class=\"dataframe\">\n",
       "  <thead>\n",
       "    <tr style=\"text-align: right;\">\n",
       "      <th></th>\n",
       "      <th>PassengerId</th>\n",
       "      <th>Survived</th>\n",
       "      <th>Pclass</th>\n",
       "      <th>Sex</th>\n",
       "      <th>SibSp</th>\n",
       "      <th>Parch</th>\n",
       "      <th>Embarked</th>\n",
       "      <th>CabinBool</th>\n",
       "      <th>AgeGroup</th>\n",
       "      <th>Title</th>\n",
       "      <th>FareBand</th>\n",
       "    </tr>\n",
       "  </thead>\n",
       "  <tbody>\n",
       "    <tr>\n",
       "      <th>0</th>\n",
       "      <td>1</td>\n",
       "      <td>0</td>\n",
       "      <td>3</td>\n",
       "      <td>0</td>\n",
       "      <td>1</td>\n",
       "      <td>0</td>\n",
       "      <td>1</td>\n",
       "      <td>0</td>\n",
       "      <td>4.0</td>\n",
       "      <td>1</td>\n",
       "      <td>1</td>\n",
       "    </tr>\n",
       "    <tr>\n",
       "      <th>1</th>\n",
       "      <td>2</td>\n",
       "      <td>1</td>\n",
       "      <td>1</td>\n",
       "      <td>1</td>\n",
       "      <td>1</td>\n",
       "      <td>0</td>\n",
       "      <td>2</td>\n",
       "      <td>1</td>\n",
       "      <td>6.0</td>\n",
       "      <td>3</td>\n",
       "      <td>4</td>\n",
       "    </tr>\n",
       "    <tr>\n",
       "      <th>2</th>\n",
       "      <td>3</td>\n",
       "      <td>1</td>\n",
       "      <td>3</td>\n",
       "      <td>1</td>\n",
       "      <td>0</td>\n",
       "      <td>0</td>\n",
       "      <td>1</td>\n",
       "      <td>0</td>\n",
       "      <td>5.0</td>\n",
       "      <td>2</td>\n",
       "      <td>2</td>\n",
       "    </tr>\n",
       "    <tr>\n",
       "      <th>3</th>\n",
       "      <td>4</td>\n",
       "      <td>1</td>\n",
       "      <td>1</td>\n",
       "      <td>1</td>\n",
       "      <td>1</td>\n",
       "      <td>0</td>\n",
       "      <td>1</td>\n",
       "      <td>1</td>\n",
       "      <td>5.0</td>\n",
       "      <td>3</td>\n",
       "      <td>4</td>\n",
       "    </tr>\n",
       "    <tr>\n",
       "      <th>4</th>\n",
       "      <td>5</td>\n",
       "      <td>0</td>\n",
       "      <td>3</td>\n",
       "      <td>0</td>\n",
       "      <td>0</td>\n",
       "      <td>0</td>\n",
       "      <td>1</td>\n",
       "      <td>0</td>\n",
       "      <td>5.0</td>\n",
       "      <td>1</td>\n",
       "      <td>2</td>\n",
       "    </tr>\n",
       "    <tr>\n",
       "      <th>...</th>\n",
       "      <td>...</td>\n",
       "      <td>...</td>\n",
       "      <td>...</td>\n",
       "      <td>...</td>\n",
       "      <td>...</td>\n",
       "      <td>...</td>\n",
       "      <td>...</td>\n",
       "      <td>...</td>\n",
       "      <td>...</td>\n",
       "      <td>...</td>\n",
       "      <td>...</td>\n",
       "    </tr>\n",
       "    <tr>\n",
       "      <th>886</th>\n",
       "      <td>887</td>\n",
       "      <td>0</td>\n",
       "      <td>2</td>\n",
       "      <td>0</td>\n",
       "      <td>0</td>\n",
       "      <td>0</td>\n",
       "      <td>1</td>\n",
       "      <td>0</td>\n",
       "      <td>5.0</td>\n",
       "      <td>6</td>\n",
       "      <td>2</td>\n",
       "    </tr>\n",
       "    <tr>\n",
       "      <th>887</th>\n",
       "      <td>888</td>\n",
       "      <td>1</td>\n",
       "      <td>1</td>\n",
       "      <td>1</td>\n",
       "      <td>0</td>\n",
       "      <td>0</td>\n",
       "      <td>1</td>\n",
       "      <td>1</td>\n",
       "      <td>4.0</td>\n",
       "      <td>2</td>\n",
       "      <td>3</td>\n",
       "    </tr>\n",
       "    <tr>\n",
       "      <th>888</th>\n",
       "      <td>889</td>\n",
       "      <td>0</td>\n",
       "      <td>3</td>\n",
       "      <td>1</td>\n",
       "      <td>1</td>\n",
       "      <td>2</td>\n",
       "      <td>1</td>\n",
       "      <td>0</td>\n",
       "      <td>4.0</td>\n",
       "      <td>2</td>\n",
       "      <td>3</td>\n",
       "    </tr>\n",
       "    <tr>\n",
       "      <th>889</th>\n",
       "      <td>890</td>\n",
       "      <td>1</td>\n",
       "      <td>1</td>\n",
       "      <td>0</td>\n",
       "      <td>0</td>\n",
       "      <td>0</td>\n",
       "      <td>2</td>\n",
       "      <td>1</td>\n",
       "      <td>5.0</td>\n",
       "      <td>1</td>\n",
       "      <td>3</td>\n",
       "    </tr>\n",
       "    <tr>\n",
       "      <th>890</th>\n",
       "      <td>891</td>\n",
       "      <td>0</td>\n",
       "      <td>3</td>\n",
       "      <td>0</td>\n",
       "      <td>0</td>\n",
       "      <td>0</td>\n",
       "      <td>3</td>\n",
       "      <td>0</td>\n",
       "      <td>5.0</td>\n",
       "      <td>1</td>\n",
       "      <td>1</td>\n",
       "    </tr>\n",
       "  </tbody>\n",
       "</table>\n",
       "<p>891 rows × 11 columns</p>\n",
       "</div>"
      ],
      "text/plain": [
       "     PassengerId  Survived  Pclass  Sex  SibSp  Parch  Embarked  CabinBool  \\\n",
       "0              1         0       3    0      1      0         1          0   \n",
       "1              2         1       1    1      1      0         2          1   \n",
       "2              3         1       3    1      0      0         1          0   \n",
       "3              4         1       1    1      1      0         1          1   \n",
       "4              5         0       3    0      0      0         1          0   \n",
       "..           ...       ...     ...  ...    ...    ...       ...        ...   \n",
       "886          887         0       2    0      0      0         1          0   \n",
       "887          888         1       1    1      0      0         1          1   \n",
       "888          889         0       3    1      1      2         1          0   \n",
       "889          890         1       1    0      0      0         2          1   \n",
       "890          891         0       3    0      0      0         3          0   \n",
       "\n",
       "     AgeGroup  Title FareBand  \n",
       "0         4.0      1        1  \n",
       "1         6.0      3        4  \n",
       "2         5.0      2        2  \n",
       "3         5.0      3        4  \n",
       "4         5.0      1        2  \n",
       "..        ...    ...      ...  \n",
       "886       5.0      6        2  \n",
       "887       4.0      2        3  \n",
       "888       4.0      2        3  \n",
       "889       5.0      1        3  \n",
       "890       5.0      1        1  \n",
       "\n",
       "[891 rows x 11 columns]"
      ]
     },
     "execution_count": 26,
     "metadata": {},
     "output_type": "execute_result"
    }
   ],
   "source": [
    "train"
   ]
  },
  {
   "cell_type": "code",
   "execution_count": 39,
   "id": "a92af2c7",
   "metadata": {},
   "outputs": [
    {
     "data": {
      "text/plain": [
       "233"
      ]
     },
     "execution_count": 39,
     "metadata": {},
     "output_type": "execute_result"
    }
   ],
   "source": [
    "a = train[train['Sex'] == 1]\n",
    "b = a[a['Survived'] == 1]\n",
    "c = len(b)\n",
    "c"
   ]
  },
  {
   "cell_type": "markdown",
   "id": "bd42a42f",
   "metadata": {},
   "source": [
    " # Visualization\n"
   ]
  },
  {
   "cell_type": "code",
   "execution_count": 18,
   "id": "fd9b1782",
   "metadata": {},
   "outputs": [
    {
     "data": {
      "image/png": "[encoded data removed]",
      "text/plain": [
       "<Figure size 800x500 with 1 Axes>"
      ]
     },
     "metadata": {},
     "output_type": "display_data"
    }
   ],
   "source": [
    "#Countplot of survivors\n",
    "\n",
    "plt.figure(figsize=(8, 5))\n",
    "sns.countplot(data=train, x='Survived', palette=\"Set3\")\n",
    "plt.title(\"Survival Count (0: Not Survived, 1: Survived)\")\n",
    "plt.show()"
   ]
  },
  {
   "cell_type": "code",
   "execution_count": 19,
   "id": "126f8081",
   "metadata": {},
   "outputs": [
    {
     "data": {
      "image/png": "[encoded data removed]",
      "text/plain": [
       "<Figure size 600x400 with 1 Axes>"
      ]
     },
     "metadata": {},
     "output_type": "display_data"
    }
   ],
   "source": [
    "#  Gender vs. Survival\n",
    "\n",
    "plt.figure(figsize=(6, 4))\n",
    "sns.countplot(data=train, x='Sex', hue='Survived', palette=\"coolwarm\")\n",
    "plt.title(\"Gender vs. Survival\")\n",
    "plt.xticks([0, 1], ['Female', 'Male'])\n",
    "plt.show()"
   ]
  },
  {
   "cell_type": "code",
   "execution_count": 20,
   "id": "5136a645",
   "metadata": {},
   "outputs": [
    {
     "data": {
      "image/png": "[encoded data removed]",
      "text/plain": [
       "<Figure size 1000x600 with 1 Axes>"
      ]
     },
     "metadata": {},
     "output_type": "display_data"
    }
   ],
   "source": [
    "# Age distribution by survival\n",
    "plt.figure(figsize=(10, 6))\n",
    "sns.histplot(data=train, x='AgeGroup', hue='Survived', palette=\"Set2\", kde=True)\n",
    "plt.title(\"Age Distribution by Survival\")\n",
    "plt.show()"
   ]
  },
  {
   "cell_type": "code",
   "execution_count": 21,
   "id": "c78c2f34",
   "metadata": {
    "scrolled": true
   },
   "outputs": [
    {
     "data": {
      "image/png": "[encoded data removed]",
      "text/plain": [
       "<Figure size 600x400 with 2 Axes>"
      ]
     },
     "metadata": {},
     "output_type": "display_data"
    }
   ],
   "source": [
    "# Confusion Matrix\n",
    "from sklearn.metrics import accuracy_score, classification_report, confusion_matrix\n",
    "conf_matrix = confusion_matrix(y_val, y_pred)\n",
    "plt.figure(figsize=(6, 4))\n",
    "sns.heatmap(conf_matrix, annot=True, fmt='d', cmap='Blues')\n",
    "plt.xlabel('Predicted')\n",
    "plt.ylabel('True')\n",
    "plt.title(\"Confusion Matrix\")\n",
    "plt.show()"
   ]
  }
 ],
 "metadata": {
  "kernelspec": {
   "display_name": "Python 3 (ipykernel)",
   "language": "python",
   "name": "python3"
  },
  "language_info": {
   "codemirror_mode": {
    "name": "ipython",
    "version": 3
   },
   "file_extension": ".py",
   "mimetype": "text/x-python",
   "name": "python",
   "nbconvert_exporter": "python",
   "pygments_lexer": "ipython3",
   "version": "3.10.9"
  }
 },
 "nbformat": 4,
 "nbformat_minor": 5
}
